{
 "cells": [
  {
   "cell_type": "code",
   "execution_count": 4,
   "metadata": {},
   "outputs": [],
   "source": [
    "import os\n",
    "os.environ[\"CUDA_VISIBLE_DEVICES\"] = \"3\"\n",
    "\n",
    "import torch\n",
    "import pandas as pd\n",
    "import numpy as np\n",
    "import numpy as np\n",
    "from os.path import join, basename, dirname, exists\n",
    "from glob import glob\n",
    "from ultralytics.utils.metrics import ConfusionMatrix\n",
    "from ultralytics.utils.ops import xywhr2xyxyxyxy, xyxyxyxy2xywhr\n",
    "from ultralytics import YOLO"
   ]
  },
  {
   "cell_type": "markdown",
   "metadata": {},
   "source": [
    "## YOLO in-house models"
   ]
  },
  {
   "cell_type": "code",
   "execution_count": 5,
   "metadata": {},
   "outputs": [
    {
     "name": "stdout",
     "output_type": "stream",
     "text": [
      "lucknow_sarath_grid_obb_v3_model_yolov8x-obb_epochs_100_0_predicted\n",
      "WARNING ⚠️ imgsz=[120] must be multiple of max stride 32, updating to [128]\n",
      "Ultralytics YOLOv8.2.46 🚀 Python-3.12.4 torch-2.3.1+cu121 CUDA:0 (NVIDIA A100-SXM4-80GB, 81051MiB)\n",
      "YOLOv8x-obb summary (fused): 287 layers, 69451017 parameters, 0 gradients, 263.2 GFLOPs\n"
     ]
    },
    {
     "name": "stderr",
     "output_type": "stream",
     "text": [
      "\u001b[34m\u001b[1mval: \u001b[0mScanning /home/rishabh.mondal/data_download_experiments/sentinel_data/crossval/lucknow_sarath_grid_obb_v3/0/test/labels.cache... 81 images, 0 backgrounds, 0 corrupt: 100%|██████████| 81/81 [00:00<?, ?it/s]\n",
      "                 Class     Images  Instances      Box(P          R      mAP50  mAP50-95): 100%|██████████| 6/6 [00:01<00:00,  3.88it/s]\n"
     ]
    },
    {
     "name": "stdout",
     "output_type": "stream",
     "text": [
      "                   all         81        122       0.42      0.569      0.409      0.231\n",
      "                  FCBK         50         59      0.342      0.424      0.248      0.118\n",
      "                Zigzag         43         63      0.498      0.714       0.57      0.344\n",
      "Speed: 0.2ms preprocess, 8.8ms inference, 0.0ms loss, 2.7ms postprocess per image\n",
      "Saving runs/obb/val16/predictions.json...\n",
      "Results saved to \u001b[1mruns/obb/val16\u001b[0m\n",
      "Fold 0\n",
      "mAP50 FCBK: 0.24842608575102476\n",
      "mAP50 Zigzag: 0.569871132382689\n",
      "mAP75 FCBK: 0.09345898557526472\n",
      "mAP75 Zigzag: 0.4237802377128883\n",
      "mAP50:95 FCBK: 0.11784859203101114\n",
      "mAP50:95 Zigzag: 0.3436856113717726\n",
      "lucknow_sarath_grid_obb_v3_model_yolov8x-obb_epochs_100_1_predicted\n",
      "WARNING ⚠️ imgsz=[120] must be multiple of max stride 32, updating to [128]\n",
      "Ultralytics YOLOv8.2.46 🚀 Python-3.12.4 torch-2.3.1+cu121 CUDA:0 (NVIDIA A100-SXM4-80GB, 81051MiB)\n",
      "YOLOv8x-obb summary (fused): 287 layers, 69451017 parameters, 0 gradients, 263.2 GFLOPs\n"
     ]
    },
    {
     "name": "stderr",
     "output_type": "stream",
     "text": [
      "\u001b[34m\u001b[1mval: \u001b[0mScanning /home/rishabh.mondal/data_download_experiments/sentinel_data/crossval/lucknow_sarath_grid_obb_v3/1/test/labels.cache... 80 images, 0 backgrounds, 0 corrupt: 100%|██████████| 80/80 [00:00<?, ?it/s]\n",
      "                 Class     Images  Instances      Box(P          R      mAP50  mAP50-95): 100%|██████████| 5/5 [00:00<00:00,  5.48it/s]\n"
     ]
    },
    {
     "name": "stdout",
     "output_type": "stream",
     "text": [
      "                   all         80        111      0.534      0.525      0.446      0.232\n",
      "                  FCBK         45         56      0.505      0.304      0.342      0.167\n",
      "                Zigzag         50         55      0.563      0.745      0.549      0.297\n",
      "Speed: 0.1ms preprocess, 5.4ms inference, 0.0ms loss, 1.6ms postprocess per image\n",
      "Saving runs/obb/val17/predictions.json...\n",
      "Results saved to \u001b[1mruns/obb/val17\u001b[0m\n",
      "Fold 1\n",
      "mAP50 FCBK: 0.34217007812942746\n",
      "mAP50 Zigzag: 0.5491883043149792\n",
      "mAP75 FCBK: 0.12161613913878734\n",
      "mAP75 Zigzag: 0.32777732086523\n",
      "mAP50:95 FCBK: 0.16696267445087687\n",
      "mAP50:95 Zigzag: 0.2974037537455177\n",
      "lucknow_sarath_grid_obb_v3_model_yolov8x-obb_epochs_100_2_predicted\n",
      "WARNING ⚠️ imgsz=[120] must be multiple of max stride 32, updating to [128]\n",
      "Ultralytics YOLOv8.2.46 🚀 Python-3.12.4 torch-2.3.1+cu121 CUDA:0 (NVIDIA A100-SXM4-80GB, 81051MiB)\n",
      "YOLOv8x-obb summary (fused): 287 layers, 69451017 parameters, 0 gradients, 263.2 GFLOPs\n"
     ]
    },
    {
     "name": "stderr",
     "output_type": "stream",
     "text": [
      "\u001b[34m\u001b[1mval: \u001b[0mScanning /home/rishabh.mondal/data_download_experiments/sentinel_data/crossval/lucknow_sarath_grid_obb_v3/2/test/labels.cache... 80 images, 0 backgrounds, 0 corrupt: 100%|██████████| 80/80 [00:00<?, ?it/s]\n",
      "                 Class     Images  Instances      Box(P          R      mAP50  mAP50-95): 100%|██████████| 5/5 [00:00<00:00,  5.43it/s]\n"
     ]
    },
    {
     "name": "stdout",
     "output_type": "stream",
     "text": [
      "                   all         80        118      0.501      0.541      0.529      0.291\n",
      "                  FCBK         48         54      0.411      0.407      0.396      0.211\n",
      "                Zigzag         48         64       0.59      0.674      0.662      0.372\n",
      "Speed: 0.1ms preprocess, 4.9ms inference, 0.0ms loss, 1.9ms postprocess per image\n",
      "Saving runs/obb/val18/predictions.json...\n",
      "Results saved to \u001b[1mruns/obb/val18\u001b[0m\n",
      "Fold 2\n",
      "mAP50 FCBK: 0.3955790672739381\n",
      "mAP50 Zigzag: 0.6619872485520468\n",
      "mAP75 FCBK: 0.20396063718250085\n",
      "mAP75 Zigzag: 0.3099496333430656\n",
      "mAP50:95 FCBK: 0.21061785310192488\n",
      "mAP50:95 Zigzag: 0.3720728919535118\n",
      "lucknow_sarath_grid_obb_v3_model_yolov8x-obb_epochs_100_3_predicted\n",
      "WARNING ⚠️ imgsz=[120] must be multiple of max stride 32, updating to [128]\n",
      "Ultralytics YOLOv8.2.46 🚀 Python-3.12.4 torch-2.3.1+cu121 CUDA:0 (NVIDIA A100-SXM4-80GB, 81051MiB)\n",
      "YOLOv8x-obb summary (fused): 287 layers, 69451017 parameters, 0 gradients, 263.2 GFLOPs\n"
     ]
    },
    {
     "name": "stderr",
     "output_type": "stream",
     "text": [
      "\u001b[34m\u001b[1mval: \u001b[0mScanning /home/rishabh.mondal/data_download_experiments/sentinel_data/crossval/lucknow_sarath_grid_obb_v3/3/test/labels.cache... 80 images, 0 backgrounds, 0 corrupt: 100%|██████████| 80/80 [00:00<?, ?it/s]\n",
      "                 Class     Images  Instances      Box(P          R      mAP50  mAP50-95): 100%|██████████| 5/5 [00:00<00:00,  5.60it/s]\n"
     ]
    },
    {
     "name": "stdout",
     "output_type": "stream",
     "text": [
      "                   all         80        127      0.442      0.563      0.496      0.265\n",
      "                  FCBK         49         59      0.366      0.508      0.362      0.196\n",
      "                Zigzag         49         68      0.518      0.618       0.63      0.334\n",
      "Speed: 0.0ms preprocess, 4.9ms inference, 0.0ms loss, 2.0ms postprocess per image\n",
      "Saving runs/obb/val19/predictions.json...\n",
      "Results saved to \u001b[1mruns/obb/val19\u001b[0m\n",
      "Fold 3\n",
      "mAP50 FCBK: 0.3616988961044234\n",
      "mAP50 Zigzag: 0.6296447388138131\n",
      "mAP75 FCBK: 0.16818779979805348\n",
      "mAP75 Zigzag: 0.31185789921734286\n",
      "mAP50:95 FCBK: 0.19596387694878575\n",
      "mAP50:95 Zigzag: 0.33440228565647556\n"
     ]
    }
   ],
   "source": [
    "map50_fcbk = []\n",
    "map50_zigzag = []\n",
    "map75_fcbk = []\n",
    "map75_zigzag = []\n",
    "map5095_fcbk = []\n",
    "map5095_zigzag = []\n",
    "for fold in range(4):\n",
    "    epochs = 100\n",
    "    data_name = \"lucknow_sarath_grid\" # \"lucknow_sarath_grid\" or \"wb_grid_400\" or \"delhi_sarath_grid\"\n",
    "    task = \"obb\" # \"obb\" or aa\"\n",
    "    suffix = \"v3\" # \"v1\" or \"v2\" or \"v3\"\n",
    "    yolo_task = \"obb\" # \"obb\" or \"detect\"\n",
    "    model = \"yolov8x-obb\"\n",
    "    gt_base_dir=\"/home/rishabh.mondal/data_download_experiments/sentinel_data/crossval/\"\n",
    "    # gt_base_dir = \"/home/patel_zeel/kilns_neurips24/crossval\"\n",
    "    pred_base_dir = \"/home/rishabh.mondal/data_download_experiments/sentinel_data_exp/yolo_sentinel_data_v3/runs\"\n",
    "    data_folder = f\"{data_name}_{task}_{suffix}\"\n",
    "    experiment_name = f\"{data_folder}_model_{model}_epochs_{epochs}_{fold}_predicted\"\n",
    "    print(experiment_name)\n",
    "    model_path = join(pred_base_dir, yolo_task, experiment_name.replace(\"_predicted\", \"\"), \"weights\", \"best.pt\")\n",
    "    # # model_path = \"\"\n",
    "    model = YOLO(model_path, task=\"obb\")\n",
    "    metrics = model.val(data=join(gt_base_dir, data_folder, str(fold), \"data.yml\"), imgsz=120, save_json=True)\n",
    "    \n",
    "    # get mAP50\n",
    "    map50_fcbk.append(metrics.box.all_ap[0, 0])\n",
    "    map50_zigzag.append(metrics.box.all_ap[1, 0])\n",
    "    map75_fcbk.append(metrics.box.all_ap[0, 5])\n",
    "    map75_zigzag.append(metrics.box.all_ap[1, 5])\n",
    "    \n",
    "    # get mAP50:95\n",
    "    map5095_fcbk.append(metrics.box.all_ap.mean(axis=1)[0])\n",
    "    map5095_zigzag.append(metrics.box.all_ap.mean(axis=1)[1])\n",
    "    \n",
    "    print(\"Fold\", fold)\n",
    "    print(\"mAP50 FCBK:\", map50_fcbk[-1])\n",
    "    print(\"mAP50 Zigzag:\", map50_zigzag[-1])\n",
    "    print(\"mAP75 FCBK:\", map75_fcbk[-1])\n",
    "    print(\"mAP75 Zigzag:\", map75_zigzag[-1])\n",
    "    print(\"mAP50:95 FCBK:\", map5095_fcbk[-1])\n",
    "    print(\"mAP50:95 Zigzag:\", map5095_zigzag[-1])"
   ]
  },
  {
   "cell_type": "code",
   "execution_count": null,
   "metadata": {},
   "outputs": [],
   "source": [
    "# Ensuring that the lengths are as expected\n",
    "assert len(map50_fcbk) == 4\n",
    "\n",
    "# Calculating averages\n",
    "avg_map50_fcbk = mean(map50_fcbk)\n",
    "avg_map50_zigzag = mean(map50_zigzag)\n",
    "avg_map75_fcbk = mean(map75_fcbk)\n",
    "avg_map75_zigzag = mean(map75_zigzag)\n",
    "avg_map5095_fcbk = mean(map5095_fcbk)\n",
    "avg_map5095_zigzag = mean(map5095_zigzag)\n",
    "\n",
    "# Creating the list of averages\n",
    "lst = [avg_map50_fcbk, avg_map50_zigzag, avg_map75_fcbk, avg_map75_zigzag, avg_map5095_fcbk, avg_map5095_zigzag]\n",
    "\n",
    "# Printing the formatted string\n",
    "print(\"Fold 1 & \" + \" & \".join(map(lambda x: f\"{x:.2f}\", lst)) + \" \\\\\\\\\")"
   ]
  },
  {
   "cell_type": "code",
   "execution_count": 7,
   "metadata": {},
   "outputs": [
    {
     "ename": "TypeError",
     "evalue": "unsupported format string passed to list.__format__",
     "output_type": "error",
     "traceback": [
      "\u001b[0;31m---------------------------------------------------------------------------\u001b[0m",
      "\u001b[0;31mTypeError\u001b[0m                                 Traceback (most recent call last)",
      "Cell \u001b[0;32mIn[7], line 9\u001b[0m\n\u001b[1;32m      7\u001b[0m avg_map5095_zigzag \u001b[38;5;241m=\u001b[39m map5095_zigzag\n\u001b[1;32m      8\u001b[0m lst \u001b[38;5;241m=\u001b[39m [avg_map50_fcbk, avg_map50_zigzag, avg_map75_fcbk, avg_map75_zigzag, avg_map5095_fcbk, avg_map5095_zigzag]\n\u001b[0;32m----> 9\u001b[0m \u001b[38;5;28mprint\u001b[39m(\u001b[38;5;124m\"\u001b[39m\u001b[38;5;124mFold 1 & \u001b[39m\u001b[38;5;124m\"\u001b[39m \u001b[38;5;241m+\u001b[39m \u001b[38;5;124;43m\"\u001b[39;49m\u001b[38;5;124;43m & \u001b[39;49m\u001b[38;5;124;43m\"\u001b[39;49m\u001b[38;5;241;43m.\u001b[39;49m\u001b[43mjoin\u001b[49m\u001b[43m(\u001b[49m\u001b[38;5;28;43mmap\u001b[39;49m\u001b[43m(\u001b[49m\u001b[38;5;28;43;01mlambda\u001b[39;49;00m\u001b[43m \u001b[49m\u001b[43mx\u001b[49m\u001b[43m:\u001b[49m\u001b[43m \u001b[49m\u001b[38;5;124;43mf\u001b[39;49m\u001b[38;5;124;43m\"\u001b[39;49m\u001b[38;5;132;43;01m{\u001b[39;49;00m\u001b[43mx\u001b[49m\u001b[38;5;132;43;01m:\u001b[39;49;00m\u001b[38;5;124;43m.2f\u001b[39;49m\u001b[38;5;132;43;01m}\u001b[39;49;00m\u001b[38;5;124;43m\"\u001b[39;49m\u001b[43m,\u001b[49m\u001b[43m \u001b[49m\u001b[43mlst\u001b[49m\u001b[43m)\u001b[49m\u001b[43m)\u001b[49m \u001b[38;5;241m+\u001b[39m \u001b[38;5;124m\"\u001b[39m\u001b[38;5;124m \u001b[39m\u001b[38;5;130;01m\\\\\u001b[39;00m\u001b[38;5;130;01m\\\\\u001b[39;00m\u001b[38;5;124m\"\u001b[39m)\n",
      "Cell \u001b[0;32mIn[7], line 9\u001b[0m, in \u001b[0;36m<lambda>\u001b[0;34m(x)\u001b[0m\n\u001b[1;32m      7\u001b[0m avg_map5095_zigzag \u001b[38;5;241m=\u001b[39m map5095_zigzag\n\u001b[1;32m      8\u001b[0m lst \u001b[38;5;241m=\u001b[39m [avg_map50_fcbk, avg_map50_zigzag, avg_map75_fcbk, avg_map75_zigzag, avg_map5095_fcbk, avg_map5095_zigzag]\n\u001b[0;32m----> 9\u001b[0m \u001b[38;5;28mprint\u001b[39m(\u001b[38;5;124m\"\u001b[39m\u001b[38;5;124mFold 1 & \u001b[39m\u001b[38;5;124m\"\u001b[39m \u001b[38;5;241m+\u001b[39m \u001b[38;5;124m\"\u001b[39m\u001b[38;5;124m & \u001b[39m\u001b[38;5;124m\"\u001b[39m\u001b[38;5;241m.\u001b[39mjoin(\u001b[38;5;28mmap\u001b[39m(\u001b[38;5;28;01mlambda\u001b[39;00m x: \u001b[38;5;124mf\u001b[39m\u001b[38;5;124m\"\u001b[39m\u001b[38;5;132;43;01m{\u001b[39;49;00m\u001b[43mx\u001b[49m\u001b[38;5;132;43;01m:\u001b[39;49;00m\u001b[38;5;124;43m.2f\u001b[39;49m\u001b[38;5;132;43;01m}\u001b[39;49;00m\u001b[38;5;124m\"\u001b[39m, lst)) \u001b[38;5;241m+\u001b[39m \u001b[38;5;124m\"\u001b[39m\u001b[38;5;124m \u001b[39m\u001b[38;5;130;01m\\\\\u001b[39;00m\u001b[38;5;130;01m\\\\\u001b[39;00m\u001b[38;5;124m\"\u001b[39m)\n",
      "\u001b[0;31mTypeError\u001b[0m: unsupported format string passed to list.__format__"
     ]
    }
   ],
   "source": [
    "assert len(map50_fcbk) == 4\n",
    "avg_map50_fcbk = map50_fcbk\n",
    "avg_map50_zigzag = map50_zigzag\n",
    "avg_map75_fcbk = map75_fcbk\n",
    "avg_map75_zigzag = map75_zigzag\n",
    "avg_map5095_fcbk = map5095_fcbk\n",
    "avg_map5095_zigzag = map5095_zigzag\n",
    "lst = [avg_map50_fcbk, avg_map50_zigzag, avg_map75_fcbk, avg_map75_zigzag, avg_map5095_fcbk, avg_map5095_zigzag]\n",
    "print(\"Fold 1 & \" + \" & \".join(map(lambda x: f\"{x:.2f}\", lst)) + \" \\\\\\\\\")\n"
   ]
  },
  {
   "cell_type": "code",
   "execution_count": 3,
   "metadata": {},
   "outputs": [
    {
     "name": "stdout",
     "output_type": "stream",
     "text": [
      "0.60 & 0.71 & 0.43 & 0.57 & 0.38 & 0.46\n"
     ]
    }
   ],
   "source": [
    "assert len(map50_fcbk) == 4\n",
    "avg_map50_fcbk = np.mean(map50_fcbk)\n",
    "avg_map50_zigzag = np.mean(map50_zigzag)\n",
    "avg_map75_fcbk = np.mean(map75_fcbk)\n",
    "avg_map75_zigzag = np.mean(map75_zigzag)\n",
    "avg_map5095_fcbk = np.mean(map5095_fcbk)\n",
    "avg_map5095_zigzag = np.mean(map5095_zigzag)\n",
    "\n",
    "lst = [avg_map50_fcbk, avg_map50_zigzag, avg_map75_fcbk, avg_map75_zigzag, avg_map5095_fcbk, avg_map5095_zigzag]\n",
    "print(\" & \".join(map(lambda x: f\"{x:.2f}\", lst)))"
   ]
  },
  {
   "cell_type": "code",
   "execution_count": 4,
   "metadata": {},
   "outputs": [
    {
     "name": "stdout",
     "output_type": "stream",
     "text": [
      "0.04 & 0.05 & 0.04 & 0.07 & 0.03 & 0.04\n"
     ]
    }
   ],
   "source": [
    "assert len(map50_fcbk) == 4\n",
    "std_map50_fcbk = np.std(map50_fcbk)\n",
    "std_map50_zigzag = np.std(map50_zigzag)\n",
    "std_map75_fcbk = np.std(map75_fcbk)\n",
    "std_map75_zigzag = np.std(map75_zigzag)\n",
    "std_map5095_fcbk = np.std(map5095_fcbk)\n",
    "std_map5095_zigzag = np.std(map5095_zigzag)\n",
    "\n",
    "lst = [std_map50_fcbk, std_map50_zigzag, std_map75_fcbk, std_map75_zigzag, std_map5095_fcbk, std_map5095_zigzag]\n",
    "print(\" & \".join(map(lambda x: f\"{x:.2f}\", lst)))"
   ]
  },
  {
   "cell_type": "code",
   "execution_count": 5,
   "metadata": {},
   "outputs": [
    {
     "name": "stdout",
     "output_type": "stream",
     "text": [
      "0.60+-0.04\n",
      "0.71+-0.05\n",
      "0.43+-0.04\n",
      "0.57+-0.07\n",
      "0.38+-0.03\n",
      "0.46+-0.04\n"
     ]
    }
   ],
   "source": [
    "print(f\"{avg_map50_fcbk:.2f}+-{np.std(map50_fcbk):.2f}\")\n",
    "print(f\"{avg_map50_zigzag:.2f}+-{np.std(map50_zigzag):.2f}\")\n",
    "print(f\"{avg_map75_fcbk:.2f}+-{np.std(map75_fcbk):.2f}\")\n",
    "print(f\"{avg_map75_zigzag:.2f}+-{np.std(map75_zigzag):.2f}\")\n",
    "print(f\"{avg_map5095_fcbk:.2f}+-{np.std(map5095_fcbk):.2f}\")\n",
    "print(f\"{avg_map5095_zigzag:.2f}+-{np.std(map5095_zigzag):.2f}\")\n"
   ]
  },
  {
   "cell_type": "code",
   "execution_count": 6,
   "metadata": {},
   "outputs": [
    {
     "name": "stdout",
     "output_type": "stream",
     "text": [
      "0.56 $\\pm$ 0.03 & 0.71 $\\pm$ 0.01 & 0.35 $\\pm$ 0.03 & 0.46 $\\pm$ 0.02\n"
     ]
    }
   ],
   "source": [
    "means = [avg_map50_fcbk, avg_map50_zigzag, avg_map5095_fcbk, avg_map5095_zigzag]\n",
    "stds = [std_map50_fcbk, std_map50_zigzag,  std_map5095_fcbk, std_map5095_zigzag]\n",
    "result = \" & \".join([f\"{mean:.2f} $\\pm$ {std:.2f}\" for mean, std in zip(means, stds)])\n",
    "print(result)\n"
   ]
  },
  {
   "cell_type": "markdown",
   "metadata": {},
   "source": []
  },
  {
   "cell_type": "markdown",
   "metadata": {},
   "source": [
    "## OOD"
   ]
  },
  {
   "cell_type": "code",
   "execution_count": 7,
   "metadata": {},
   "outputs": [
    {
     "name": "stdout",
     "output_type": "stream",
     "text": [
      "lucknow_sarath_grid_wb_grid_400_obb_v1_yolov8m-obb.pt_1120_100\n",
      "Ultralytics YOLOv8.2.28 🚀 Python-3.11.8 torch-2.2.2+cu121 CUDA:0 (NVIDIA A100-SXM4-80GB, 81051MiB)\n",
      "YOLOv8m-obb summary (fused): 237 layers, 26401225 parameters, 0 gradients, 80.8 GFLOPs\n"
     ]
    },
    {
     "name": "stderr",
     "output_type": "stream",
     "text": [
      "\u001b[34m\u001b[1mval: \u001b[0mScanning /home/patel_zeel/kilns_neurips24/processed_data/delhi_sarath_grid_obb_v1/labels... 381 images, 0 backgrounds, 5 corrupt: 100%|██████████| 383/383 [00:01<00:00, 265.70it/s]"
     ]
    },
    {
     "name": "stdout",
     "output_type": "stream",
     "text": [
      "\u001b[34m\u001b[1mval: \u001b[0mWARNING ⚠️ /home/patel_zeel/kilns_neurips24/processed_data/delhi_sarath_grid_obb_v1/images/28.23,77.38.png: ignoring corrupt image/label: non-normalized or out of bounds coordinates [     1.0097]\n",
      "\u001b[34m\u001b[1mval: \u001b[0mWARNING ⚠️ /home/patel_zeel/kilns_neurips24/processed_data/delhi_sarath_grid_obb_v1/images/28.25,77.41.png: ignoring corrupt image/label: non-normalized or out of bounds coordinates [     1.2042]\n",
      "\u001b[34m\u001b[1mval: \u001b[0mWARNING ⚠️ /home/patel_zeel/kilns_neurips24/processed_data/delhi_sarath_grid_obb_v1/images/28.79,77.36.png: 1 duplicate labels removed\n",
      "\u001b[34m\u001b[1mval: \u001b[0mWARNING ⚠️ /home/patel_zeel/kilns_neurips24/processed_data/delhi_sarath_grid_obb_v1/images/28.81,77.34.png: ignoring corrupt image/label: non-normalized or out of bounds coordinates [     1.2348]\n",
      "\u001b[34m\u001b[1mval: \u001b[0mWARNING ⚠️ /home/patel_zeel/kilns_neurips24/processed_data/delhi_sarath_grid_obb_v1/images/28.png: ignoring corrupt image/label: [Errno 2] No such file or directory: '/home/rishabh.mondal/Brick-Kilns-project/albk_rishabh/albk_v2/YOLO_LOCALIZATION/png_data/delhi_sarath_grid/28.png'\n",
      "\u001b[34m\u001b[1mval: \u001b[0mWARNING ⚠️ /home/patel_zeel/kilns_neurips24/processed_data/delhi_sarath_grid_obb_v1/images/29.png: ignoring corrupt image/label: [Errno 2] No such file or directory: '/home/rishabh.mondal/Brick-Kilns-project/albk_rishabh/albk_v2/YOLO_LOCALIZATION/png_data/delhi_sarath_grid/29.png'\n",
      "\u001b[34m\u001b[1mval: \u001b[0mWARNING ⚠️ Cache directory /home/patel_zeel/kilns_neurips24/processed_data/delhi_sarath_grid_obb_v1 is not writeable, cache not saved.\n"
     ]
    },
    {
     "name": "stderr",
     "output_type": "stream",
     "text": [
      "\n",
      "                 Class     Images  Instances      Box(P          R      mAP50  mAP50-95): 100%|██████████| 24/24 [00:09<00:00,  2.53it/s]\n"
     ]
    },
    {
     "name": "stdout",
     "output_type": "stream",
     "text": [
      "                   all        378        779      0.724      0.631      0.731      0.581\n",
      "                  FCBK         30         33      0.485      0.667      0.614      0.504\n",
      "                Zigzag        369        746      0.963      0.596      0.848      0.659\n",
      "Speed: 1.6ms preprocess, 11.4ms inference, 0.0ms loss, 2.3ms postprocess per image\n",
      "Saving runs/obb/val115/predictions.json...\n",
      "Results saved to \u001b[1mruns/obb/val115\u001b[0m\n",
      "mAP50 FCBK: 0.6138267504756497\n",
      "mAP50 Zigzag: 0.8477386810601165\n",
      "mAP75 FCBK: 0.6125556624357825\n",
      "mAP75 Zigzag: 0.8031103775616304\n",
      "mAP50:95 FCBK: 0.5038048800650872\n",
      "mAP50:95 Zigzag: 0.6590568046518788\n"
     ]
    }
   ],
   "source": [
    "map50_fcbk = []\n",
    "map50_zigzag = []\n",
    "map75_fcbk = []\n",
    "map75_zigzag = []\n",
    "map5095_fcbk = []\n",
    "map5095_zigzag = []\n",
    "\n",
    "epochs = 100\n",
    "data_name = \"lucknow_sarath_grid_wb_grid_400\"\n",
    "task = \"obb\"\n",
    "suffix = \"v1\"\n",
    "yolo_task = \"obb\"\n",
    "model = \"yolov8m-obb\"\n",
    "gt_base_dir = \"/home/patel_zeel/kilns_neurips24/processed_data\"\n",
    "pred_base_dir = \"/home/rishabh.mondal/Brick-Kilns-project/albk_rishabh/albk_v2/YOLO_LOCALIZATION/runs/\"\n",
    "train_data_folder = f\"lucknow_sarath_grid_wb_grid_400_{task}_v1\"\n",
    "test_data_folder = f\"delhi_sarath_grid_{task}_v1\"\n",
    "imgsz = 1120\n",
    "train_experiment_name = f\"{train_data_folder}_{model}.pt_{imgsz}_{epochs}\"\n",
    "print(train_experiment_name)\n",
    "model = YOLO(join(pred_base_dir, train_experiment_name, \"weights\", \"best.pt\"), task=yolo_task)\n",
    "# # model = YOLO(join(pred_base_dir, yolo_task, train_experiment_name, \"weights\", \"best.pt\"), task=yolo_task)\n",
    "metrics = model.val(data=join(gt_base_dir, test_data_folder, \"data.yml\"), imgsz=1120, save_json=True)\n",
    "\n",
    "# get mAP50\n",
    "map50_fcbk.append(metrics.box.all_ap[0, 0])\n",
    "map50_zigzag.append(metrics.box.all_ap[1, 0])\n",
    "map75_fcbk.append(metrics.box.all_ap[0, 5])\n",
    "map75_zigzag.append(metrics.box.all_ap[1, 5])\n",
    "\n",
    "# get mAP50:95\n",
    "map5095_fcbk.append(metrics.box.all_ap.mean(axis=1)[0])\n",
    "map5095_zigzag.append(metrics.box.all_ap.mean(axis=1)[1])\n",
    "\n",
    "print(\"mAP50 FCBK:\", map50_fcbk[-1])\n",
    "print(\"mAP50 Zigzag:\", map50_zigzag[-1])\n",
    "print(\"mAP75 FCBK:\", map75_fcbk[-1])\n",
    "print(\"mAP75 Zigzag:\", map75_zigzag[-1])\n",
    "print(\"mAP50:95 FCBK:\", map5095_fcbk[-1])\n",
    "print(\"mAP50:95 Zigzag:\", map5095_zigzag[-1])"
   ]
  },
  {
   "cell_type": "code",
   "execution_count": 8,
   "metadata": {},
   "outputs": [
    {
     "name": "stdout",
     "output_type": "stream",
     "text": [
      "0.61 & 0.85 & 0.50 & 0.66\n"
     ]
    }
   ],
   "source": [
    "avg_map50_fcbk = np.mean(map50_fcbk)\n",
    "avg_map50_zigzag = np.mean(map50_zigzag)\n",
    "avg_map75_fcbk = np.mean(map75_fcbk)\n",
    "avg_map75_zigzag = np.mean(map75_zigzag)\n",
    "avg_map5095_fcbk = np.mean(map5095_fcbk)\n",
    "avg_map5095_zigzag = np.mean(map5095_zigzag)\n",
    "\n",
    "lst = [avg_map50_fcbk, avg_map50_zigzag, avg_map5095_fcbk, avg_map5095_zigzag]\n",
    "print(\" & \".join(map(lambda x: f\"{x:.2f}\", lst)))"
   ]
  },
  {
   "cell_type": "code",
   "execution_count": null,
   "metadata": {},
   "outputs": [],
   "source": []
  }
 ],
 "metadata": {
  "kernelspec": {
   "display_name": "zeel_py311",
   "language": "python",
   "name": "python3"
  },
  "language_info": {
   "codemirror_mode": {
    "name": "ipython",
    "version": 3
   },
   "file_extension": ".py",
   "mimetype": "text/x-python",
   "name": "python",
   "nbconvert_exporter": "python",
   "pygments_lexer": "ipython3",
   "version": "3.12.4"
  }
 },
 "nbformat": 4,
 "nbformat_minor": 2
}
